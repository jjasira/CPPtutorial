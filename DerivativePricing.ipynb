{
  "nbformat": 4,
  "nbformat_minor": 0,
  "metadata": {
    "colab": {
      "provenance": [],
      "authorship_tag": "ABX9TyMwQHsca+bLNJZru6WEwfRC",
      "include_colab_link": true
    },
    "kernelspec": {
      "name": "python3",
      "display_name": "Python 3"
    },
    "language_info": {
      "name": "python"
    }
  },
  "cells": [
    {
      "cell_type": "markdown",
      "metadata": {
        "id": "view-in-github",
        "colab_type": "text"
      },
      "source": [
        "<a href=\"https://colab.research.google.com/github/jjasira/CPPtutorial/blob/main/DerivativePricing.ipynb\" target=\"_parent\"><img src=\"https://colab.research.google.com/assets/colab-badge.svg\" alt=\"Open In Colab\"/></a>"
      ]
    },
    {
      "cell_type": "code",
      "source": [
        "import numpy as np"
      ],
      "metadata": {
        "id": "5rde9W0owKmO"
      },
      "execution_count": null,
      "outputs": []
    },
    {
      "cell_type": "markdown",
      "source": [
        "**Binomial Pricing Model**"
      ],
      "metadata": {
        "id": "TaKkQ_0gv7_r"
      }
    },
    {
      "cell_type": "code",
      "execution_count": null,
      "metadata": {
        "id": "_suOFMblv0xw"
      },
      "outputs": [],
      "source": [
        "def binomial_call_full(S_ini, K, T, r, u, d, N):\n",
        "    dt = T / N  # Define time step\n",
        "    p = (np.exp(r * dt) - d) / (u - d)  # Risk neutral probabilities (probs)\n",
        "    C = np.zeros([N + 1, N + 1])  # Call prices\n",
        "    S = np.zeros([N + 1, N + 1])  # Underlying price\n",
        "    for i in range(0, N + 1):\n",
        "        C[N, i] = max(S_ini * (u ** (i)) * (d ** (N - i)) - K, 0)\n",
        "        S[N, i] = S_ini * (u ** (i)) * (d ** (N - i))\n",
        "    for j in range(N - 1, -1, -1):\n",
        "        for i in range(0, j + 1):\n",
        "            C[j, i] = np.exp(-r * dt) * (p * C[j + 1, i + 1] + (1 - p) * C[j + 1, i])\n",
        "            S[j, i] = S_ini * (u ** (i)) * (d ** (j - i))\n",
        "    return C[0, 0], C, S"
      ]
    }
  ]
}